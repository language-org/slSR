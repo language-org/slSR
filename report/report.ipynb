{
 "cells": [
  {
   "cell_type": "markdown",
   "source": [
    "# Report\n",
    "\n",
    "author: steeve laquitaine"
   ],
   "metadata": {}
  },
  {
   "cell_type": "markdown",
   "source": [
    "## Architecture\n",
    "\n",
    "* Transformer (instead of autoregressive sequence modeling): tag generation based on non-autoregressive model\n",
    "\n",
    "* Two-pass refine mechanism (instead of Conditional Random Field (CRF)): solves uncoordinated slots problem caused by conditional independence by \n",
    "  modeling boundaries of each slot explicitly"
   ],
   "metadata": {}
  },
  {
   "cell_type": "markdown",
   "source": [
    "## Dataset \n",
    "\n",
    "* Utterances are stored in a .txt file\n",
    "* Each line contains a single sentence utterance\n",
    "* Each utterance followed on the same line by its Inside - outside -begining (IOB) tags\n",
    "\n",
    "          i want to fly from baltimore to dallas round trip\\tO O O O O B-fromloc.city_name O B-toloc.city_name B-round_trip I-round_trip\\tatis_flight\\n\n",
    "\n",
    "          round trip fares from baltimore to philadelphia less than 1000 dollars round trip fares from denver to philadelphia less than 1000 dollars round trip fares from pittsburgh to philadelphia less than 1000 dollars\\tB-round_trip I-round_trip O O B-fromloc.city_name O B-toloc.city_name B-cost_relative O B-fare_amount I-fare_amount B-round_trip I-round_trip O O B-fromloc.city_name O B-toloc.city_name B-cost_relative O B-fare_amount I-fare_amount B-round_trip I-round_trip O O B-fromloc.city_name O B-toloc.city_name B-cost_relative O B-fare_amount I-fare_amount\\tatis_airfare\\n  \n",
    "\n",
    "* Description\n",
    "  * Utterances have no punctuation\n",
    "\n",
    "* ETL\n",
    "  * text file was read with the chinese government standard encoding: `gb18030`"
   ],
   "metadata": {}
  },
  {
   "cell_type": "markdown",
   "source": [
    "## Preprocessing\n"
   ],
   "metadata": {}
  },
  {
   "cell_type": "markdown",
   "source": [
    "* **Tokenization**:   \n",
    "  * The text corpus was vectorized, by turning the text into a sequence of \n",
    "  * token indices (position in token dictionary) \n",
    "  * tokens are splitted by spaces ' '\n",
    "  * the flak '<unk>' was added to word index and used to replace out-of-vocabulary (oov) words\n",
    "  * digital tokens (numbers, time) are conserved by default\n",
    "\n",
    "* **Padding**"
   ],
   "metadata": {}
  },
  {
   "cell_type": "markdown",
   "source": [
    "## Evaluation\n",
    "\n",
    "Load prediction"
   ],
   "metadata": {}
  },
  {
   "cell_type": "code",
   "execution_count": 5,
   "source": [
    "import os\n",
    "import pandas as pd\n",
    "with open(os.path.abspath(\"../data/atis/inference/prediction\"), \"r\") as file:\n",
    "    lines = file.readlines()\n",
    "    lines = [line.strip().lower().split('\\t') for line in lines]\n",
    "predictions = pd.DataFrame(lines, columns=[\"utterance\",\"intent\",\"slots\"])\n",
    "predictions"
   ],
   "outputs": [
    {
     "output_type": "execute_result",
     "data": {
      "text/html": [
       "<div>\n",
       "<style scoped>\n",
       "    .dataframe tbody tr th:only-of-type {\n",
       "        vertical-align: middle;\n",
       "    }\n",
       "\n",
       "    .dataframe tbody tr th {\n",
       "        vertical-align: top;\n",
       "    }\n",
       "\n",
       "    .dataframe thead th {\n",
       "        text-align: right;\n",
       "    }\n",
       "</style>\n",
       "<table border=\"1\" class=\"dataframe\">\n",
       "  <thead>\n",
       "    <tr style=\"text-align: right;\">\n",
       "      <th></th>\n",
       "      <th>utterance</th>\n",
       "      <th>intent</th>\n",
       "      <th>slots</th>\n",
       "    </tr>\n",
       "  </thead>\n",
       "  <tbody>\n",
       "    <tr>\n",
       "      <th>0</th>\n",
       "      <td>i would like to find a flight from charlotte t...</td>\n",
       "      <td>atis_ground_service</td>\n",
       "      <td>b-depart_time.time_relative b-depart_time.time...</td>\n",
       "    </tr>\n",
       "    <tr>\n",
       "      <th>1</th>\n",
       "      <td>on april first i need a ticket from tacoma to ...</td>\n",
       "      <td>atis_ground_service</td>\n",
       "      <td>b-depart_time.time_relative b-depart_time.time...</td>\n",
       "    </tr>\n",
       "    <tr>\n",
       "      <th>2</th>\n",
       "      <td>on april first i need a flight going from phoe...</td>\n",
       "      <td>atis_ground_service</td>\n",
       "      <td>b-depart_time.time_relative b-depart_time.time...</td>\n",
       "    </tr>\n",
       "    <tr>\n",
       "      <th>3</th>\n",
       "      <td>i would like a flight traveling one way from p...</td>\n",
       "      <td>atis_ground_service</td>\n",
       "      <td>b-depart_time.time_relative b-depart_time.time...</td>\n",
       "    </tr>\n",
       "    <tr>\n",
       "      <th>4</th>\n",
       "      <td>i would like a flight from orlando to salt lak...</td>\n",
       "      <td>atis_ground_service</td>\n",
       "      <td>b-depart_time.time_relative b-depart_time.time...</td>\n",
       "    </tr>\n",
       "    <tr>\n",
       "      <th>...</th>\n",
       "      <td>...</td>\n",
       "      <td>...</td>\n",
       "      <td>...</td>\n",
       "    </tr>\n",
       "    <tr>\n",
       "      <th>1019</th>\n",
       "      <td>show me the flights in from minneapolis to ind...</td>\n",
       "      <td>atis_ground_service</td>\n",
       "      <td>b-depart_time.time_relative b-depart_time.time...</td>\n",
       "    </tr>\n",
       "    <tr>\n",
       "      <th>1020</th>\n",
       "      <td>show me flight us &lt;unk&gt; from indianapolis to c...</td>\n",
       "      <td>atis_ground_service</td>\n",
       "      <td>b-depart_time.time_relative b-depart_time.time...</td>\n",
       "    </tr>\n",
       "    <tr>\n",
       "      <th>1021</th>\n",
       "      <td>show me all the flights from las vegas to new ...</td>\n",
       "      <td>atis_ground_service</td>\n",
       "      <td>b-depart_time.time_relative b-depart_time.time...</td>\n",
       "    </tr>\n",
       "    <tr>\n",
       "      <th>1022</th>\n",
       "      <td>which different airlines go from las vegas to ...</td>\n",
       "      <td>atis_ground_service</td>\n",
       "      <td>b-depart_time.time_relative b-depart_time.time...</td>\n",
       "    </tr>\n",
       "    <tr>\n",
       "      <th>1023</th>\n",
       "      <td>show me all the flights on america west and tw...</td>\n",
       "      <td>atis_ground_service</td>\n",
       "      <td>b-depart_time.time_relative b-depart_time.time...</td>\n",
       "    </tr>\n",
       "  </tbody>\n",
       "</table>\n",
       "<p>1024 rows × 3 columns</p>\n",
       "</div>"
      ],
      "text/plain": [
       "                                              utterance               intent  \\\n",
       "0     i would like to find a flight from charlotte t...  atis_ground_service   \n",
       "1     on april first i need a ticket from tacoma to ...  atis_ground_service   \n",
       "2     on april first i need a flight going from phoe...  atis_ground_service   \n",
       "3     i would like a flight traveling one way from p...  atis_ground_service   \n",
       "4     i would like a flight from orlando to salt lak...  atis_ground_service   \n",
       "...                                                 ...                  ...   \n",
       "1019  show me the flights in from minneapolis to ind...  atis_ground_service   \n",
       "1020  show me flight us <unk> from indianapolis to c...  atis_ground_service   \n",
       "1021  show me all the flights from las vegas to new ...  atis_ground_service   \n",
       "1022  which different airlines go from las vegas to ...  atis_ground_service   \n",
       "1023  show me all the flights on america west and tw...  atis_ground_service   \n",
       "\n",
       "                                                  slots  \n",
       "0     b-depart_time.time_relative b-depart_time.time...  \n",
       "1     b-depart_time.time_relative b-depart_time.time...  \n",
       "2     b-depart_time.time_relative b-depart_time.time...  \n",
       "3     b-depart_time.time_relative b-depart_time.time...  \n",
       "4     b-depart_time.time_relative b-depart_time.time...  \n",
       "...                                                 ...  \n",
       "1019  b-depart_time.time_relative b-depart_time.time...  \n",
       "1020  b-depart_time.time_relative b-depart_time.time...  \n",
       "1021  b-depart_time.time_relative b-depart_time.time...  \n",
       "1022  b-depart_time.time_relative b-depart_time.time...  \n",
       "1023  b-depart_time.time_relative b-depart_time.time...  \n",
       "\n",
       "[1024 rows x 3 columns]"
      ]
     },
     "metadata": {},
     "execution_count": 5
    }
   ],
   "metadata": {}
  },
  {
   "cell_type": "code",
   "execution_count": 6,
   "source": [
    "intent_set = predictions[\"intent\"].unique()\n",
    "intent_set"
   ],
   "outputs": [
    {
     "output_type": "execute_result",
     "data": {
      "text/plain": [
       "array(['atis_ground_service', 'atis_distance'], dtype=object)"
      ]
     },
     "metadata": {},
     "execution_count": 6
    }
   ],
   "metadata": {}
  },
  {
   "cell_type": "markdown",
   "source": [],
   "metadata": {}
  }
 ],
 "metadata": {
  "orig_nbformat": 4,
  "language_info": {
   "name": "python",
   "version": "3.6.0",
   "mimetype": "text/x-python",
   "codemirror_mode": {
    "name": "ipython",
    "version": 3
   },
   "pygments_lexer": "ipython3",
   "nbconvert_exporter": "python",
   "file_extension": ".py"
  },
  "kernelspec": {
   "name": "python3",
   "display_name": "Python 3.6.0 64-bit ('slotRefine': conda)"
  },
  "interpreter": {
   "hash": "18139f018a7ee7a4fe677bb3e36e878b27181c95961cdc153cec72451a52cc7d"
  }
 },
 "nbformat": 4,
 "nbformat_minor": 2
}