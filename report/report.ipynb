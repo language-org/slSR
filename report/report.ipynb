{
 "cells": [
  {
   "cell_type": "markdown",
   "source": [
    "# Report\n",
    "\n",
    "author: steeve laquitaine"
   ],
   "metadata": {}
  },
  {
   "cell_type": "markdown",
   "source": [
    "## Architecture\n",
    "\n",
    "* Transformer (instead of autoregressive sequence modeling): tag generation based on non-autoregressive model\n",
    "\n",
    "* Two-pass refine mechanism (instead of Conditional Random Field (CRF)): solves uncoordinated slots problem caused by conditional independence by \n",
    "  modeling boundaries of each slot explicitly"
   ],
   "metadata": {}
  },
  {
   "cell_type": "markdown",
   "source": [
    "## Dataset \n",
    "\n",
    "* Utterances are stored in a .txt file\n",
    "* Each line contains a single sentence utterance\n",
    "* Each utterance followed on the same line by its Inside - outside -begining (IOB) tags\n",
    "\n",
    "          i want to fly from baltimore to dallas round trip\\tO O O O O B-fromloc.city_name O B-toloc.city_name B-round_trip I-round_trip\\tatis_flight\\n\n",
    "\n",
    "          round trip fares from baltimore to philadelphia less than 1000 dollars round trip fares from denver to philadelphia less than 1000 dollars round trip fares from pittsburgh to philadelphia less than 1000 dollars\\tB-round_trip I-round_trip O O B-fromloc.city_name O B-toloc.city_name B-cost_relative O B-fare_amount I-fare_amount B-round_trip I-round_trip O O B-fromloc.city_name O B-toloc.city_name B-cost_relative O B-fare_amount I-fare_amount B-round_trip I-round_trip O O B-fromloc.city_name O B-toloc.city_name B-cost_relative O B-fare_amount I-fare_amount\\tatis_airfare\\n  \n",
    "\n",
    "* Description\n",
    "  * Utterances have no punctuation\n",
    "\n",
    "* ETL\n",
    "  * text file was read with the chinese government standard encoding: `gb18030`"
   ],
   "metadata": {}
  },
  {
   "cell_type": "markdown",
   "source": [
    "## Preprocessing\n"
   ],
   "metadata": {}
  },
  {
   "cell_type": "markdown",
   "source": [
    "* **Tokenization**:   \n",
    "  * The text corpus was vectorized, by turning the text into a sequence of \n",
    "  * token indices (position in token dictionary) \n",
    "  * tokens are splitted by spaces ' '\n",
    "  * the flak '<unk>' was added to word index and used to replace out-of-vocabulary (oov) words"
   ],
   "metadata": {}
  },
  {
   "cell_type": "markdown",
   "source": [],
   "metadata": {}
  },
  {
   "cell_type": "markdown",
   "source": [],
   "metadata": {}
  },
  {
   "cell_type": "code",
   "execution_count": null,
   "source": [],
   "outputs": [],
   "metadata": {}
  }
 ],
 "metadata": {
  "orig_nbformat": 4,
  "language_info": {
   "name": "python",
   "version": "3.6.0",
   "mimetype": "text/x-python",
   "codemirror_mode": {
    "name": "ipython",
    "version": 3
   },
   "pygments_lexer": "ipython3",
   "nbconvert_exporter": "python",
   "file_extension": ".py"
  },
  "kernelspec": {
   "name": "python3",
   "display_name": "Python 3.6.0 64-bit ('slotRefine': conda)"
  },
  "interpreter": {
   "hash": "18139f018a7ee7a4fe677bb3e36e878b27181c95961cdc153cec72451a52cc7d"
  }
 },
 "nbformat": 4,
 "nbformat_minor": 2
}